{
 "cells": [
  {
   "cell_type": "code",
   "execution_count": null,
   "id": "0ac1536e",
   "metadata": {},
   "outputs": [],
   "source": [
    "1. What are escape characters, and how do you use them?"
   ]
  },
  {
   "cell_type": "code",
   "execution_count": null,
   "id": "6266697f",
   "metadata": {},
   "outputs": [],
   "source": [
    "'\\' is a special character also called as escape characters, it is used with'\\n' for a newline"
   ]
  },
  {
   "cell_type": "code",
   "execution_count": null,
   "id": "8479b2d3",
   "metadata": {},
   "outputs": [],
   "source": [
    "2. What do the escape characters n and t stand for?"
   ]
  },
  {
   "cell_type": "code",
   "execution_count": null,
   "id": "d53f3365",
   "metadata": {},
   "outputs": [],
   "source": [
    "Wscape character n stand for newline and t stands tab"
   ]
  },
  {
   "cell_type": "code",
   "execution_count": null,
   "id": "937aaeef",
   "metadata": {},
   "outputs": [],
   "source": [
    "3. What is the way to include backslash characters in a string?"
   ]
  },
  {
   "cell_type": "code",
   "execution_count": null,
   "id": "ec0736a6",
   "metadata": {},
   "outputs": [],
   "source": [
    "Syntax '\\\\' is used within a string to include backlash characters."
   ]
  },
  {
   "cell_type": "code",
   "execution_count": null,
   "id": "723421fd",
   "metadata": {},
   "outputs": [],
   "source": [
    "4. The string \"Howl's Moving Castle\" is a correct value. Why isn't the single quote character in the word Howl's not \n",
    "escaped a problem?"
   ]
  },
  {
   "cell_type": "code",
   "execution_count": null,
   "id": "c3c04f86",
   "metadata": {},
   "outputs": [],
   "source": [
    "\"Howl's\" not escaped a problem because it was included in double quotes."
   ]
  },
  {
   "cell_type": "code",
   "execution_count": null,
   "id": "a2914c92",
   "metadata": {},
   "outputs": [],
   "source": [
    "5. How do you write a string of newlines if you don't want to use the n character?"
   ]
  },
  {
   "cell_type": "code",
   "execution_count": null,
   "id": "ab448eeb",
   "metadata": {},
   "outputs": [],
   "source": [
    "We can use repr"
   ]
  },
  {
   "cell_type": "code",
   "execution_count": null,
   "id": "5f1543eb",
   "metadata": {},
   "outputs": [],
   "source": [
    "6. What are the values of the given expressions?\n",
    "'Hello, world!'[1]\n",
    "'Hello, world!'[0:5]\n",
    "'Hello, world!'[:5]\n",
    "'Hello, world!'[3:]"
   ]
  },
  {
   "cell_type": "code",
   "execution_count": null,
   "id": "72e20d99",
   "metadata": {},
   "outputs": [],
   "source": [
    "The vlues are :\n",
    "\n",
    "'Hello, world!'[1]   --'e'\n",
    "'Hello, world!'[0:5] --'Hello'\n",
    "'Hello, world!'[:5]  --'Hello'\n",
    "'Hello, world!'[3:]  --'lo, world!'\n",
    "    "
   ]
  },
  {
   "cell_type": "code",
   "execution_count": null,
   "id": "569e4b76",
   "metadata": {},
   "outputs": [],
   "source": [
    "7. What are the values of the following expressions?\n",
    "'Hello'.upper()\n",
    "'Hello'.upper().isupper()\n",
    "'Hello'.upper().lower()"
   ]
  },
  {
   "cell_type": "code",
   "execution_count": 7,
   "id": "8366290f",
   "metadata": {},
   "outputs": [
    {
     "data": {
      "text/plain": [
       "'hello'"
      ]
     },
     "execution_count": 7,
     "metadata": {},
     "output_type": "execute_result"
    }
   ],
   "source": [
    "'Hello'.upper().lower()"
   ]
  },
  {
   "cell_type": "code",
   "execution_count": null,
   "id": "8900fe5a",
   "metadata": {},
   "outputs": [],
   "source": [
    "The values of \n",
    "'Hello'.upper()            ---'HELLO'\n",
    "'Hello'.upper().isupper()  ---'True'\n",
    "'Hello'.upper().lower()    ---'hello'"
   ]
  },
  {
   "cell_type": "code",
   "execution_count": null,
   "id": "d56df183",
   "metadata": {},
   "outputs": [],
   "source": [
    "8. What are the values of the following expressions?\n",
    "'Remember, remember, the fifth of July.'.split()\n",
    "'-'.join('There can only one.'.split())"
   ]
  },
  {
   "cell_type": "code",
   "execution_count": 9,
   "id": "8826a811",
   "metadata": {},
   "outputs": [
    {
     "data": {
      "text/plain": [
       "'There-can-only-one.'"
      ]
     },
     "execution_count": 9,
     "metadata": {},
     "output_type": "execute_result"
    }
   ],
   "source": [
    "'-'.join('There can only one.'.split())"
   ]
  },
  {
   "cell_type": "code",
   "execution_count": null,
   "id": "c5364a21",
   "metadata": {},
   "outputs": [],
   "source": [
    "the vlaue of \n",
    "(i) 'Remember, remember, the fifth of July.'.split() returns a list of all the characters of string as \n",
    "['Remember,', 'remember,', 'the', 'fifth', 'of', 'July.']\n",
    "\n",
    "(ii)'-'.join('There can only one.'.split()) - returns a string as the operation because it first splits the string and then\n",
    "joins ."
   ]
  },
  {
   "cell_type": "code",
   "execution_count": null,
   "id": "8cee3840",
   "metadata": {},
   "outputs": [],
   "source": [
    "9. What are the methods for right-justifying, left-justifying, and centering a string?"
   ]
  },
  {
   "cell_type": "code",
   "execution_count": null,
   "id": "bafb9955",
   "metadata": {},
   "outputs": [],
   "source": [
    "The methods for right-justifying is rjust(), left-justifying is ljust(), centering as center(). "
   ]
  },
  {
   "cell_type": "code",
   "execution_count": null,
   "id": "29bf40db",
   "metadata": {},
   "outputs": [],
   "source": [
    "10. What is the best way to remove whitespace characters from the start or end?"
   ]
  },
  {
   "cell_type": "code",
   "execution_count": null,
   "id": "b3c1a3c6",
   "metadata": {},
   "outputs": [],
   "source": [
    "The way to remove whitespace characters are split()."
   ]
  }
 ],
 "metadata": {
  "kernelspec": {
   "display_name": "Python 3 (ipykernel)",
   "language": "python",
   "name": "python3"
  },
  "language_info": {
   "codemirror_mode": {
    "name": "ipython",
    "version": 3
   },
   "file_extension": ".py",
   "mimetype": "text/x-python",
   "name": "python",
   "nbconvert_exporter": "python",
   "pygments_lexer": "ipython3",
   "version": "3.9.7"
  }
 },
 "nbformat": 4,
 "nbformat_minor": 5
}

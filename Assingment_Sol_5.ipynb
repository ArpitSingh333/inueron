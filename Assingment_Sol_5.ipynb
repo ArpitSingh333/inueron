{
 "cells": [
  {
   "cell_type": "code",
   "execution_count": null,
   "id": "dfee6076",
   "metadata": {},
   "outputs": [],
   "source": [
    "1. What does an empty dictionary's code look like?"
   ]
  },
  {
   "cell_type": "code",
   "execution_count": null,
   "id": "59a6dfee",
   "metadata": {},
   "outputs": [],
   "source": [
    "An empty dictionary's code looks like {}"
   ]
  },
  {
   "cell_type": "code",
   "execution_count": null,
   "id": "75f4047d",
   "metadata": {},
   "outputs": [],
   "source": [
    "2. What is the value of a dictionary value with the key 'foo' and the value 42?"
   ]
  },
  {
   "cell_type": "code",
   "execution_count": null,
   "id": "8320bc54",
   "metadata": {},
   "outputs": [],
   "source": [
    "The dictionary is d = { 'foo': 42}"
   ]
  },
  {
   "cell_type": "code",
   "execution_count": null,
   "id": "8eba53e1",
   "metadata": {},
   "outputs": [],
   "source": [
    "3. What is the most significant distinction between a dictionary and a list?"
   ]
  },
  {
   "cell_type": "code",
   "execution_count": null,
   "id": "819e62db",
   "metadata": {},
   "outputs": [],
   "source": [
    "The key difference between a list and a dictionary is that a list contains ordered values while dictionary has key and its \n",
    "value pairs"
   ]
  },
  {
   "cell_type": "code",
   "execution_count": null,
   "id": "1419f71c",
   "metadata": {},
   "outputs": [],
   "source": [
    "4. What happens if you try to access spam['foo'] if spam is {'bar': 100}?"
   ]
  },
  {
   "cell_type": "code",
   "execution_count": null,
   "id": "c96131dc",
   "metadata": {},
   "outputs": [],
   "source": [
    "It will return an error as the dictionary does not contain any key as 'foo'"
   ]
  },
  {
   "cell_type": "code",
   "execution_count": null,
   "id": "dc4ce5fc",
   "metadata": {},
   "outputs": [],
   "source": [
    "5. If a dictionary is stored in spam, what is the difference between the expressions 'cat' in spam and 'cat' in spam.keys()?"
   ]
  },
  {
   "cell_type": "code",
   "execution_count": null,
   "id": "f08d1d8a",
   "metadata": {},
   "outputs": [],
   "source": [
    "The expression 'cat' returns the value of key 'cat' and 'cat' in spam.keys() will return an error as it is used only to \n",
    "give the corresponding keys of a dictionary"
   ]
  },
  {
   "cell_type": "code",
   "execution_count": null,
   "id": "6ac8a4d7",
   "metadata": {},
   "outputs": [],
   "source": [
    "6. If a dictionary is stored in spam, what is the difference between the expressions 'cat' in spam and 'cat' in spam.values()?"
   ]
  },
  {
   "cell_type": "code",
   "execution_count": null,
   "id": "86559395",
   "metadata": {},
   "outputs": [],
   "source": [
    "The expression 'cat' returns the value of key 'cat' and 'cat' in spam.values() will return an error as it is used only to \n",
    "give the corresponding values of a dictionary"
   ]
  },
  {
   "cell_type": "code",
   "execution_count": null,
   "id": "f35bd553",
   "metadata": {},
   "outputs": [],
   "source": [
    "7. What is a shortcut for the following code?\n",
    "if 'color' not in spam:\n",
    "spam['color'] = 'black'\n"
   ]
  },
  {
   "cell_type": "code",
   "execution_count": null,
   "id": "66308e07",
   "metadata": {},
   "outputs": [],
   "source": [
    "The shortcut for following code is \n",
    "if 'color' not in spam:\n",
    "    spam.update(['color'], 'black')"
   ]
  },
  {
   "cell_type": "code",
   "execution_count": null,
   "id": "aa015b68",
   "metadata": {},
   "outputs": [],
   "source": [
    "8. How do you \"pretty print\" dictionary values using which module and function?"
   ]
  },
  {
   "cell_type": "code",
   "execution_count": null,
   "id": "5288ce13",
   "metadata": {},
   "outputs": [],
   "source": [
    "To get the dictionary we use the dict.values() from dictionary module and the function is values"
   ]
  },
  {
   "cell_type": "code",
   "execution_count": null,
   "id": "4de8d46d",
   "metadata": {},
   "outputs": [],
   "source": []
  },
  {
   "cell_type": "code",
   "execution_count": null,
   "id": "8f6d96e2",
   "metadata": {},
   "outputs": [],
   "source": []
  },
  {
   "cell_type": "code",
   "execution_count": null,
   "id": "7b425c17",
   "metadata": {},
   "outputs": [],
   "source": []
  },
  {
   "cell_type": "code",
   "execution_count": null,
   "id": "439266df",
   "metadata": {},
   "outputs": [],
   "source": []
  },
  {
   "cell_type": "code",
   "execution_count": null,
   "id": "61753b22",
   "metadata": {},
   "outputs": [],
   "source": []
  },
  {
   "cell_type": "code",
   "execution_count": null,
   "id": "f73d6ab7",
   "metadata": {},
   "outputs": [],
   "source": []
  },
  {
   "cell_type": "code",
   "execution_count": null,
   "id": "f4e36871",
   "metadata": {},
   "outputs": [],
   "source": []
  },
  {
   "cell_type": "code",
   "execution_count": null,
   "id": "ec9277d8",
   "metadata": {},
   "outputs": [],
   "source": []
  },
  {
   "cell_type": "code",
   "execution_count": null,
   "id": "8768b329",
   "metadata": {},
   "outputs": [],
   "source": []
  },
  {
   "cell_type": "code",
   "execution_count": null,
   "id": "65b0d7d3",
   "metadata": {},
   "outputs": [],
   "source": []
  },
  {
   "cell_type": "code",
   "execution_count": null,
   "id": "ba55401f",
   "metadata": {},
   "outputs": [],
   "source": []
  },
  {
   "cell_type": "code",
   "execution_count": null,
   "id": "9e09e360",
   "metadata": {},
   "outputs": [],
   "source": []
  }
 ],
 "metadata": {
  "kernelspec": {
   "display_name": "Python 3 (ipykernel)",
   "language": "python",
   "name": "python3"
  },
  "language_info": {
   "codemirror_mode": {
    "name": "ipython",
    "version": 3
   },
   "file_extension": ".py",
   "mimetype": "text/x-python",
   "name": "python",
   "nbconvert_exporter": "python",
   "pygments_lexer": "ipython3",
   "version": "3.9.7"
  }
 },
 "nbformat": 4,
 "nbformat_minor": 5
}

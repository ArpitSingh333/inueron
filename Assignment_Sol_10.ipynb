{
 "cells": [
  {
   "cell_type": "code",
   "execution_count": null,
   "id": "b2990dc3",
   "metadata": {},
   "outputs": [],
   "source": [
    "1. How do you distinguish between shutil.copy() and shutil.copytree()?"
   ]
  },
  {
   "cell_type": "code",
   "execution_count": null,
   "id": "34c13475",
   "metadata": {},
   "outputs": [],
   "source": [
    "shutil.copy() will copy a single file while shutil.copytree() will copy an entire folder and file contained in it"
   ]
  },
  {
   "cell_type": "code",
   "execution_count": null,
   "id": "ee3c4c6e",
   "metadata": {},
   "outputs": [],
   "source": [
    "2. What function is used to rename files??"
   ]
  },
  {
   "cell_type": "code",
   "execution_count": null,
   "id": "76ae85fb",
   "metadata": {},
   "outputs": [],
   "source": [
    "The shutil.move() is used to rename files"
   ]
  },
  {
   "cell_type": "code",
   "execution_count": null,
   "id": "0b1fa29a",
   "metadata": {},
   "outputs": [],
   "source": [
    "3. What is the difference between the delete functions in the send2trash and shutil modules?"
   ]
  },
  {
   "cell_type": "code",
   "execution_count": null,
   "id": "5eefcc2e",
   "metadata": {},
   "outputs": [],
   "source": [
    "the send2trash function will send a file to recycle bin while delete function will permanently delete it"
   ]
  },
  {
   "cell_type": "code",
   "execution_count": null,
   "id": "fb322ea5",
   "metadata": {},
   "outputs": [],
   "source": [
    "4.ZipFile objects have a close() method just like File objects’ close() method. What ZipFile method is equivalent to \n",
    "File objects’ open() method?"
   ]
  },
  {
   "cell_type": "code",
   "execution_count": null,
   "id": "406d4de1",
   "metadata": {},
   "outputs": [],
   "source": [
    "open() is the fuction equivalent to zipfile.ZipFile() function"
   ]
  },
  {
   "cell_type": "code",
   "execution_count": null,
   "id": "266df4a5",
   "metadata": {},
   "outputs": [],
   "source": [
    "5. Create a programme that searches a folder tree for files with a certain file extension (such as .pdf or .jpg). \n",
    "Copy these files from whatever location they are in to a new folder."
   ]
  },
  {
   "cell_type": "code",
   "execution_count": null,
   "id": "d1131eeb",
   "metadata": {},
   "outputs": [],
   "source": [
    "import os\n",
    "import shutill\n",
    "def FileEx(src,dst):\n",
    "    \"\"\"Function that searches and copies files from one direcory to other\"\"\"\n",
    "    src = \"C:/\"\n",
    "    dst = \"C:/newfolder\"\n",
    "    src_files = os.listdir(src)\n",
    "    try:\n",
    "        for i in src_files:\n",
    "            filename = os.path.join(src, file)\n",
    "            if file.endswith(\".pdf\"):\n",
    "                shutil.copy(file, dest)\n",
    "            elif file.endswith(\".jpg\"):\n",
    "                shutil.copy(file, dest)\n",
    "            else:\n",
    "                pass\n",
    "    except:\n",
    "        print(\"An error occured\")"
   ]
  }
 ],
 "metadata": {
  "kernelspec": {
   "display_name": "Python 3 (ipykernel)",
   "language": "python",
   "name": "python3"
  },
  "language_info": {
   "codemirror_mode": {
    "name": "ipython",
    "version": 3
   },
   "file_extension": ".py",
   "mimetype": "text/x-python",
   "name": "python",
   "nbconvert_exporter": "python",
   "pygments_lexer": "ipython3",
   "version": "3.9.7"
  }
 },
 "nbformat": 4,
 "nbformat_minor": 5
}

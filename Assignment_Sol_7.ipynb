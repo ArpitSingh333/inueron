{
 "cells": [
  {
   "cell_type": "code",
   "execution_count": null,
   "id": "346e1def",
   "metadata": {},
   "outputs": [],
   "source": [
    "1. What is the name of the feature responsible for generating Regex objects?"
   ]
  },
  {
   "cell_type": "code",
   "execution_count": null,
   "id": "6bc67695",
   "metadata": {},
   "outputs": [],
   "source": [
    "The re.recompile function is responsible for generating Regex objects."
   ]
  },
  {
   "cell_type": "code",
   "execution_count": null,
   "id": "7bdb3318",
   "metadata": {},
   "outputs": [],
   "source": [
    "2. Why do raw strings often appear in Regex objects?"
   ]
  },
  {
   "cell_type": "code",
   "execution_count": null,
   "id": "e854ef41",
   "metadata": {},
   "outputs": [],
   "source": [
    "Raw strings are used in Regex ojects so that Backlashes do not get escaped"
   ]
  },
  {
   "cell_type": "code",
   "execution_count": null,
   "id": "dcf34530",
   "metadata": {},
   "outputs": [],
   "source": [
    "3. What is the return value of the search() method?"
   ]
  },
  {
   "cell_type": "code",
   "execution_count": null,
   "id": "c516bf87",
   "metadata": {},
   "outputs": [],
   "source": [
    "Search method returns objects that are a exact Match in the string"
   ]
  },
  {
   "cell_type": "code",
   "execution_count": null,
   "id": "5bc7304e",
   "metadata": {},
   "outputs": [],
   "source": [
    "4. From a Match item, how do you get the actual strings that match the pattern?"
   ]
  },
  {
   "cell_type": "code",
   "execution_count": null,
   "id": "fd99dc4d",
   "metadata": {},
   "outputs": [],
   "source": [
    "To obtain actual strings that match the pattern we use group() method."
   ]
  },
  {
   "cell_type": "code",
   "execution_count": null,
   "id": "15b24980",
   "metadata": {},
   "outputs": [],
   "source": [
    "5. In the regex which created from the r'(\\d\\d\\d)-(\\d\\d\\d-\\d\\d\\d\\d)', what does group zero cover? Group 2? Group 1?"
   ]
  },
  {
   "cell_type": "code",
   "execution_count": null,
   "id": "812fd0bc",
   "metadata": {},
   "outputs": [],
   "source": [
    "Group 0 is the entire match , group 1 covers covers the first set of brackets and group 2 covers second set of bracket "
   ]
  },
  {
   "cell_type": "code",
   "execution_count": null,
   "id": "282df0c5",
   "metadata": {},
   "outputs": [],
   "source": [
    "6. In standard expression syntax, parentheses and intervals have distinct meanings. How can you tell a regex that you want \n",
    "it to fit real parentheses and periods?"
   ]
  },
  {
   "cell_type": "code",
   "execution_count": null,
   "id": "ffc490ab",
   "metadata": {},
   "outputs": [],
   "source": [
    "For regex to understand we can escape the parantheses and intervals with a backlash . \\,\\(,and\\)"
   ]
  },
  {
   "cell_type": "code",
   "execution_count": null,
   "id": "9f437ce9",
   "metadata": {},
   "outputs": [],
   "source": [
    "7. The findall() method returns a string list or a list of string tuples. What causes it to return one of the two options?"
   ]
  },
  {
   "cell_type": "code",
   "execution_count": null,
   "id": "70283a0f",
   "metadata": {},
   "outputs": [],
   "source": [
    "If we dont provide any groups to regex than list is returned but if we provide groups to regex then a list of tuples is \n",
    "returned"
   ]
  },
  {
   "cell_type": "code",
   "execution_count": null,
   "id": "1184920d",
   "metadata": {},
   "outputs": [],
   "source": [
    "8. In standard expressions, what does the | character mean?"
   ]
  },
  {
   "cell_type": "code",
   "execution_count": null,
   "id": "e7ea84d2",
   "metadata": {},
   "outputs": [],
   "source": [
    "The character is '|'used to return values as either or if we want any of two given values then this is used "
   ]
  },
  {
   "cell_type": "code",
   "execution_count": null,
   "id": "982afbb7",
   "metadata": {},
   "outputs": [],
   "source": [
    "9. In regular expressions, what does the character stand for?"
   ]
  },
  {
   "cell_type": "code",
   "execution_count": null,
   "id": "543ec5be",
   "metadata": {},
   "outputs": [],
   "source": [
    "there are mamy chracters in regex that has thier own meanings "
   ]
  },
  {
   "cell_type": "code",
   "execution_count": null,
   "id": "c99de8d6",
   "metadata": {},
   "outputs": [],
   "source": [
    "10.In regular expressions, what is the difference between the + and * characters?"
   ]
  },
  {
   "cell_type": "code",
   "execution_count": null,
   "id": "9357c85c",
   "metadata": {},
   "outputs": [],
   "source": [
    "We use '*' character to find the matching values as zero or more while '+' is used to find to find 1 or more\n",
    "matching values"
   ]
  },
  {
   "cell_type": "code",
   "execution_count": null,
   "id": "45a92b94",
   "metadata": {},
   "outputs": [],
   "source": [
    "11. What is the difference between {4} and {4,5} in regular expression?"
   ]
  },
  {
   "cell_type": "code",
   "execution_count": null,
   "id": "00aa4cd2",
   "metadata": {},
   "outputs": [],
   "source": [
    "The {4} matches exactly 4 instances of group while {4,5} matches between three and five instances"
   ]
  },
  {
   "cell_type": "code",
   "execution_count": null,
   "id": "c2332ef2",
   "metadata": {},
   "outputs": [],
   "source": [
    "12. What do you mean by the \\d, \\w, and \\s shorthand character classes signify in regular expressions?"
   ]
  },
  {
   "cell_type": "code",
   "execution_count": null,
   "id": "9f134c62",
   "metadata": {},
   "outputs": [],
   "source": [
    "The shorthand character classes signify the following in regular expressions:\n",
    "(i)   '\\d' - Matches a single digit\n",
    "(ii)  '\\w' - Matches a word\n",
    "(iii) '\\s' - Matches a space character"
   ]
  },
  {
   "cell_type": "code",
   "execution_count": null,
   "id": "fe137f71",
   "metadata": {},
   "outputs": [],
   "source": [
    "13. What do means by \\D, \\W, and \\S shorthand character classes signify in regular expressions?"
   ]
  },
  {
   "cell_type": "code",
   "execution_count": null,
   "id": "a1155f64",
   "metadata": {},
   "outputs": [],
   "source": [
    "The shorthand character classes signify the following in regular expressions:\n",
    "(i)   '\\D' - Matches a single character that is not a digit\n",
    "(ii)  '\\w' - Matches that is not a word\n",
    "(iii) '\\s' - Matches that is not  a space character"
   ]
  },
  {
   "cell_type": "code",
   "execution_count": null,
   "id": "30f5d1d5",
   "metadata": {},
   "outputs": [],
   "source": [
    "14. What is the difference between .*? and .*?"
   ]
  },
  {
   "cell_type": "code",
   "execution_count": null,
   "id": "279b53dd",
   "metadata": {},
   "outputs": [],
   "source": [
    "The difference between .*? and .* is the former performs certain match and latter performs approximate match"
   ]
  },
  {
   "cell_type": "code",
   "execution_count": null,
   "id": "394c4082",
   "metadata": {},
   "outputs": [],
   "source": [
    "15. What is the syntax for matching both numbers and lowercase letters with a character class?"
   ]
  },
  {
   "cell_type": "code",
   "execution_count": null,
   "id": "5eeed611",
   "metadata": {},
   "outputs": [],
   "source": [
    "The syntax for matching both numbers and lowercase letters is 'Either[0-9a-Z] or [a-z0-9]' "
   ]
  },
  {
   "cell_type": "code",
   "execution_count": null,
   "id": "53fee1f9",
   "metadata": {},
   "outputs": [],
   "source": [
    "16. What is the procedure for making a normal expression in regax case insensitive?"
   ]
  },
  {
   "cell_type": "code",
   "execution_count": null,
   "id": "2201c092",
   "metadata": {},
   "outputs": [],
   "source": [
    "we can make the regex as case insensitive by passing re.I or re.IGNORECASE"
   ]
  },
  {
   "cell_type": "code",
   "execution_count": null,
   "id": "3975d883",
   "metadata": {},
   "outputs": [],
   "source": [
    "17. What does the . character normally match? What does it match if re.DOTALL is passed as 2nd argument in re.compile()?"
   ]
  },
  {
   "cell_type": "code",
   "execution_count": null,
   "id": "5bf01392",
   "metadata": {},
   "outputs": [],
   "source": [
    "The .character normally matches any of the characer present except a newline character . if re.DOTALL is passed as the \n",
    "second argument to re.compile() then dot will also match newline characters."
   ]
  },
  {
   "cell_type": "code",
   "execution_count": null,
   "id": "2f238872",
   "metadata": {},
   "outputs": [],
   "source": [
    "18. If numReg = re.compile(r'\\d+'), what will numRegex.sub('X', '11 drummers, 10 pipers, five rings, 4 hen') return?"
   ]
  },
  {
   "cell_type": "code",
   "execution_count": null,
   "id": "3c363c5b",
   "metadata": {},
   "outputs": [],
   "source": [
    " numRegex.sub('X', '11 drummers, 10 pipers, five rings, 4 hen') will return 'X drummers, X pipers, five rings, X hen'\n"
   ]
  },
  {
   "cell_type": "code",
   "execution_count": null,
   "id": "e61b3129",
   "metadata": {},
   "outputs": [],
   "source": [
    "19. What does passing re.VERBOSE as the 2nd argument to re.compile() allow to do?"
   ]
  },
  {
   "cell_type": "code",
   "execution_count": null,
   "id": "fff75ba1",
   "metadata": {},
   "outputs": [],
   "source": [
    "If re.VERBOSE is passed as 2nd argument after re.compile() then it adds whitespaces and comments to the string"
   ]
  },
  {
   "cell_type": "code",
   "execution_count": null,
   "id": "a147911a",
   "metadata": {},
   "outputs": [],
   "source": [
    "20. How would you write a regex that match a number with comma for every three digits? It must match the given following:\n",
    "'42'\n",
    "'1,234'\n",
    "'6,368,745'\n",
    "but not the following:\n",
    "'12,34,567' (which has only two digits between the commas)\n",
    "'1234' (which lacks commas)\n"
   ]
  },
  {
   "cell_type": "code",
   "execution_count": null,
   "id": "774c9b24",
   "metadata": {},
   "outputs": [],
   "source": [
    "To solve the above problem we can write following code:\n",
    "re.compile(r'^\\d{1,3},\\d{3}*$')"
   ]
  },
  {
   "cell_type": "code",
   "execution_count": null,
   "id": "2119ac8e",
   "metadata": {},
   "outputs": [],
   "source": [
    "21. How would you write a regex that matches the full name of someone whose last name is Watanabe? You can assume that the\n",
    "first name that comes before it will always be one word that begins with a capital letter. The regex must match the \n",
    "following:\n",
    "'Haruto Watanabe'\n",
    "'Alice Watanabe'\n",
    "'RoboCop Watanabe'\n",
    "but not the following:\n",
    "'haruto Watanabe' (where the first name is not capitalized)\n",
    "'Mr. Watanabe' (where the preceding word has a nonletter character)\n",
    "'Watanabe' (which has no first name)\n",
    "'Haruto watanabe' (where Watanabe is not capitalized)\n"
   ]
  },
  {
   "cell_type": "code",
   "execution_count": null,
   "id": "6e9117b5",
   "metadata": {},
   "outputs": [],
   "source": [
    "The above problem can be solved by writing the following code chunck\n",
    "re.compile(r'[A-Z][a-z]*\\sWatanabe')"
   ]
  },
  {
   "cell_type": "code",
   "execution_count": null,
   "id": "4fc5058e",
   "metadata": {},
   "outputs": [],
   "source": [
    "22. How would you write a regex that matches a sentence where the first word is either Alice, Bob, or Carol; \n",
    "the second word is either eats, pets, or throws; the third word is apples, cats, or baseballs; and the sentence \n",
    "ends with a period? This regex should be case-insensitive. It must match the following:\n",
    "'Alice eats apples.'\n",
    "'Bob pets cats.'\n",
    "'Carol throws baseballs.'\n",
    "'Alice throws Apples.'\n",
    "'BOB EATS CATS.'\n",
    "but not the following:\n",
    "'RoboCop eats apples.'\n",
    "'ALICE THROWS FOOTBALLS.'\n",
    "'Carol eats 7 cats.'"
   ]
  },
  {
   "cell_type": "code",
   "execution_count": null,
   "id": "d6e24bfc",
   "metadata": {},
   "outputs": [],
   "source": [
    "The above problem can be solved by following code:\n",
    "\n",
    "re.compile(r'(Alice|Bob|Carol)\\s(eats|pets|throws)'re.IGNORECASE)"
   ]
  }
 ],
 "metadata": {
  "kernelspec": {
   "display_name": "Python 3 (ipykernel)",
   "language": "python",
   "name": "python3"
  },
  "language_info": {
   "codemirror_mode": {
    "name": "ipython",
    "version": 3
   },
   "file_extension": ".py",
   "mimetype": "text/x-python",
   "name": "python",
   "nbconvert_exporter": "python",
   "pygments_lexer": "ipython3",
   "version": "3.9.7"
  }
 },
 "nbformat": 4,
 "nbformat_minor": 5
}

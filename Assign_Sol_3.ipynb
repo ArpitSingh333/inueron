{
 "cells": [
  {
   "cell_type": "code",
   "execution_count": null,
   "id": "d07f1b18",
   "metadata": {},
   "outputs": [],
   "source": [
    "1. Why are functions advantageous to have in your programs?"
   ]
  },
  {
   "cell_type": "code",
   "execution_count": null,
   "id": "dcd4d346",
   "metadata": {},
   "outputs": [],
   "source": [
    "Its an advantage to have functions in our program because it gives us reusability we dont have to script a function \n",
    "again and again in order to make it do the same kind of task"
   ]
  },
  {
   "cell_type": "code",
   "execution_count": null,
   "id": "07266642",
   "metadata": {},
   "outputs": [],
   "source": [
    "2. When does the code in a function run: when it's specified or when it's called?"
   ]
  },
  {
   "cell_type": "code",
   "execution_count": null,
   "id": "56abec84",
   "metadata": {},
   "outputs": [],
   "source": [
    "A code in a functioin runs when we CALL it."
   ]
  },
  {
   "cell_type": "code",
   "execution_count": null,
   "id": "262c141a",
   "metadata": {},
   "outputs": [],
   "source": [
    "4. What is the difference between a function and a function call?"
   ]
  },
  {
   "cell_type": "code",
   "execution_count": null,
   "id": "0f9af69a",
   "metadata": {},
   "outputs": [],
   "source": [
    "A function is a piece of script or code  that can perform certain operations with respect to code passed to it but a function \n",
    "runs that code when we call it."
   ]
  },
  {
   "cell_type": "code",
   "execution_count": null,
   "id": "10d7c735",
   "metadata": {},
   "outputs": [],
   "source": [
    "5. How many global scopes are there in a Python program? How many local scopes?"
   ]
  },
  {
   "cell_type": "code",
   "execution_count": null,
   "id": "4b7bd04f",
   "metadata": {},
   "outputs": [],
   "source": [
    "when we define a variable in function then its scope is i.e. it can be used by that function only but when we define a variable\n",
    "outside a fun then its scope becomes global i.e. it can be used by any function"
   ]
  },
  {
   "cell_type": "code",
   "execution_count": null,
   "id": "2570fd8b",
   "metadata": {},
   "outputs": [],
   "source": [
    "6. What happens to variables in a local scope when the function call returns?"
   ]
  },
  {
   "cell_type": "code",
   "execution_count": null,
   "id": "35f084ee",
   "metadata": {},
   "outputs": [],
   "source": [
    "The variable is used by only that function when the variable call returns"
   ]
  },
  {
   "cell_type": "code",
   "execution_count": null,
   "id": "64fdf578",
   "metadata": {},
   "outputs": [],
   "source": [
    "7. What is the concept of a return value? Is it possible to have a return value in an expression?"
   ]
  },
  {
   "cell_type": "code",
   "execution_count": null,
   "id": "a256d818",
   "metadata": {},
   "outputs": [],
   "source": [
    "A return value is used to fetch the results in a data type that we can use further to get results it returns the same result\n",
    "as print but we dont use print often because it returns 'NONE TYPE' data type which cannot be used to do further modifications"
   ]
  },
  {
   "cell_type": "code",
   "execution_count": null,
   "id": "3e1cd234",
   "metadata": {},
   "outputs": [],
   "source": [
    "8. If a function does not have a return statement, what is the return value of a call to that function?"
   ]
  },
  {
   "cell_type": "code",
   "execution_count": null,
   "id": "8073545a",
   "metadata": {},
   "outputs": [],
   "source": [
    "If a functions does not have a return statement then when we call that function it will execute but we will not be able to see \n",
    "its results on the other hand if we return value of call to that function then it fetches the results of that particular \n",
    "function. "
   ]
  },
  {
   "cell_type": "code",
   "execution_count": null,
   "id": "82bd46a4",
   "metadata": {},
   "outputs": [],
   "source": [
    "9. How do you make a function variable refer to the global variable?"
   ]
  },
  {
   "cell_type": "code",
   "execution_count": null,
   "id": "67b0a7a3",
   "metadata": {},
   "outputs": [],
   "source": [
    "we can make a function variable refer to global by using \"GLOBAL\" keyword. "
   ]
  },
  {
   "cell_type": "code",
   "execution_count": null,
   "id": "2b94a79b",
   "metadata": {},
   "outputs": [],
   "source": [
    "10. What is the data type of None?"
   ]
  },
  {
   "cell_type": "code",
   "execution_count": null,
   "id": "77f35fe6",
   "metadata": {},
   "outputs": [],
   "source": [
    "None is itself a data type i.e. \"NONETYPE\""
   ]
  },
  {
   "cell_type": "code",
   "execution_count": null,
   "id": "8fe5dad7",
   "metadata": {},
   "outputs": [],
   "source": [
    "11. What does the sentence import areallyourpetsnamederic do?"
   ]
  },
  {
   "cell_type": "code",
   "execution_count": null,
   "id": "52c6d168",
   "metadata": {},
   "outputs": [],
   "source": [
    "import areallyourpetsnamederic imports a module whose name is \"areallyourpetsnamederic\""
   ]
  },
  {
   "cell_type": "code",
   "execution_count": null,
   "id": "f5ecba7e",
   "metadata": {},
   "outputs": [],
   "source": [
    "12. If you had a bacon() feature in a spam module, what would you call it after importing spam?"
   ]
  },
  {
   "cell_type": "code",
   "execution_count": null,
   "id": "e2725139",
   "metadata": {},
   "outputs": [],
   "source": [
    "We can call it by typing spam.bacon()"
   ]
  },
  {
   "cell_type": "code",
   "execution_count": null,
   "id": "3920761c",
   "metadata": {},
   "outputs": [],
   "source": [
    "13. What can you do to save a programme from crashing if it encounters an error?"
   ]
  },
  {
   "cell_type": "code",
   "execution_count": null,
   "id": "4077315e",
   "metadata": {},
   "outputs": [],
   "source": [
    "We can use \"Exception Handling\" to save a program from crashing i.e put it  in a try clause ,if it encounters an error."
   ]
  },
  {
   "cell_type": "code",
   "execution_count": null,
   "id": "621abdfb",
   "metadata": {},
   "outputs": [],
   "source": [
    "14. What is the purpose of the try clause? What is the purpose of the except clause?"
   ]
  },
  {
   "cell_type": "code",
   "execution_count": null,
   "id": "9adfdab6",
   "metadata": {},
   "outputs": [],
   "source": [
    "The purpose of try clause is to prevent a program from crashing if a wrong or confusing input is provided by user .\n",
    "the program first enters the try clause it executes the program if it fails to execute then it enters \"except\" clause to handle\n",
    "it."
   ]
  },
  {
   "cell_type": "code",
   "execution_count": null,
   "id": "e0d10a66",
   "metadata": {},
   "outputs": [],
   "source": []
  },
  {
   "cell_type": "code",
   "execution_count": null,
   "id": "f7c9e716",
   "metadata": {},
   "outputs": [],
   "source": []
  },
  {
   "cell_type": "code",
   "execution_count": null,
   "id": "ff788fb4",
   "metadata": {},
   "outputs": [],
   "source": []
  },
  {
   "cell_type": "code",
   "execution_count": null,
   "id": "8985f518",
   "metadata": {},
   "outputs": [],
   "source": []
  },
  {
   "cell_type": "code",
   "execution_count": null,
   "id": "e9b2b162",
   "metadata": {},
   "outputs": [],
   "source": []
  },
  {
   "cell_type": "code",
   "execution_count": null,
   "id": "975ad0e5",
   "metadata": {},
   "outputs": [],
   "source": []
  },
  {
   "cell_type": "code",
   "execution_count": null,
   "id": "40a1b2af",
   "metadata": {},
   "outputs": [],
   "source": []
  }
 ],
 "metadata": {
  "kernelspec": {
   "display_name": "Python 3 (ipykernel)",
   "language": "python",
   "name": "python3"
  },
  "language_info": {
   "codemirror_mode": {
    "name": "ipython",
    "version": 3
   },
   "file_extension": ".py",
   "mimetype": "text/x-python",
   "name": "python",
   "nbconvert_exporter": "python",
   "pygments_lexer": "ipython3",
   "version": "3.9.7"
  }
 },
 "nbformat": 4,
 "nbformat_minor": 5
}

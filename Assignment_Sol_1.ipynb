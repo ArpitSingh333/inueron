{
 "cells": [
  {
   "cell_type": "code",
   "execution_count": null,
   "id": "437f42e9",
   "metadata": {},
   "outputs": [],
   "source": [
    "1. In the below elements which of them are values or an expression? eg:- values can be integer or string and expressions will be mathematical operators.\n",
    "* \n",
    "'hello'\n",
    "-87.8\n",
    "- \n",
    "/ \n",
    "+\t\n",
    "6 \n"
   ]
  },
  {
   "cell_type": "code",
   "execution_count": null,
   "id": "671514b0",
   "metadata": {},
   "outputs": [],
   "source": [
    "In the elements above the values and expressions are as follows\n",
    "VALUES:\n",
    "    'hello' - string\n",
    "    87.8 - intiger or float\n",
    "    6 - intiger\n",
    "expression:\n",
    "    * - multiplication\n",
    "    / - division\n",
    "    - - minus\n",
    "    + - addition\n",
    "    "
   ]
  },
  {
   "cell_type": "code",
   "execution_count": null,
   "id": "a8050f00",
   "metadata": {},
   "outputs": [],
   "source": [
    "2. What is the difference between string and variable?"
   ]
  },
  {
   "cell_type": "code",
   "execution_count": null,
   "id": "0a43136a",
   "metadata": {},
   "outputs": [],
   "source": [
    "A string can be anything that contains alphabets or even can contain intigers with it in some cases for example\n",
    "'ram'\n",
    "'RAM'\n",
    "'My name is arpit singh'\n",
    "'my phone no. is 987654331'\n",
    "'i live in j block awas vikas no. 1'\n",
    "so above examples contain both alphabet and integer but intiger combined with alphabet is counted as string.\n",
    "on the other hand variables are entities which take input from user and then act as values\n",
    "for example:\n",
    "    a =8\n",
    "    b=7\n",
    "    c= 'Arpit'\n",
    "    d= 'an integer'\n",
    "    e= 6+7j\n",
    "    \n",
    "a,b,c,d and e are variables"
   ]
  },
  {
   "cell_type": "code",
   "execution_count": null,
   "id": "736a7f35",
   "metadata": {},
   "outputs": [],
   "source": [
    "3. Describe three different data types."
   ]
  },
  {
   "cell_type": "code",
   "execution_count": null,
   "id": "cfd2d1ed",
   "metadata": {},
   "outputs": [],
   "source": [
    "The three different data types are :\n",
    "\n",
    "1- LIST : This is a data type that can contain a number of values in it . The values may be string, intiger,float etc.\n",
    "          List is a mutable entity and we use [] to indicate a list.for example a=['a',54,8+9j,'Arpit'] in this example\n",
    "          a is a list.\n",
    "2- TUPLE : A tuple may be defined as an immutable list . a tuple can also contain several values and we use () to \n",
    "           indicate a tuple . For example : b=(45,6+7j,'Singh').\n",
    "3- DIctionary : A dictionary contains key and its values and key can be called to get its respected value. We use {} to \n",
    "                indicate a dictionary for example : c={'a':'Arpit','b':'Singh','c':'455','d':'6+7j'}. in the above example\n",
    "                'a','b','c'and 'd'are keys and 'Arpit','Singh','455','6+7j' are respective values.\n",
    "                "
   ]
  },
  {
   "cell_type": "code",
   "execution_count": null,
   "id": "703a6852",
   "metadata": {},
   "outputs": [],
   "source": [
    "4. What is an expression made up of? What do all expressions do?"
   ]
  },
  {
   "cell_type": "code",
   "execution_count": null,
   "id": "7646b3cd",
   "metadata": {},
   "outputs": [],
   "source": [
    "An expression  is a function that performs some operations based on the values transferred . There is different function \n",
    "of each expression such as mathemetical operators , Boolean Expression and others."
   ]
  },
  {
   "cell_type": "code",
   "execution_count": null,
   "id": "42501139",
   "metadata": {},
   "outputs": [],
   "source": [
    "5. This assignment statements, like spam = 10. What is the difference between an expression and a statement?"
   ]
  },
  {
   "cell_type": "code",
   "execution_count": null,
   "id": "ba1d730d",
   "metadata": {},
   "outputs": [],
   "source": [
    "An expression performs operations according to given values and operators and returns some result (most of the times) \n",
    "for example: a = 3*4 a is an expression that would return 12 as the reult on the other hand statements are values stored \n",
    "in some variable . spam =10 is an statement becuase value of spam will get stored .\n",
    "    "
   ]
  },
  {
   "cell_type": "code",
   "execution_count": null,
   "id": "522f7a3a",
   "metadata": {},
   "outputs": [],
   "source": [
    "6. After running the following code, what does the variable bacon contain?\n",
    "bacon = 22\n",
    "bacon + 1\n"
   ]
  },
  {
   "cell_type": "code",
   "execution_count": 1,
   "id": "2c3be276",
   "metadata": {},
   "outputs": [
    {
     "data": {
      "text/plain": [
       "23"
      ]
     },
     "execution_count": 1,
     "metadata": {},
     "output_type": "execute_result"
    }
   ],
   "source": [
    "bacon=22\n",
    "bacon+1"
   ]
  },
  {
   "cell_type": "code",
   "execution_count": null,
   "id": "39cd9b82",
   "metadata": {
    "collapsed": true
   },
   "outputs": [],
   "source": [
    "So this code will reutrn 23 as result"
   ]
  },
  {
   "cell_type": "code",
   "execution_count": null,
   "id": "482fecac",
   "metadata": {},
   "outputs": [],
   "source": [
    "7. What should the values of the following two terms be?\n",
    "'spam' + 'spamspam'\n",
    "'spam' * 3\n"
   ]
  },
  {
   "cell_type": "code",
   "execution_count": 2,
   "id": "da53c6d3",
   "metadata": {},
   "outputs": [
    {
     "data": {
      "text/plain": [
       "'spamspamspam'"
      ]
     },
     "execution_count": 2,
     "metadata": {},
     "output_type": "execute_result"
    }
   ],
   "source": [
    "'spam' + 'spamspam'"
   ]
  },
  {
   "cell_type": "code",
   "execution_count": 4,
   "id": "fffe3d19",
   "metadata": {},
   "outputs": [
    {
     "data": {
      "text/plain": [
       "'spamspamspam'"
      ]
     },
     "execution_count": 4,
     "metadata": {},
     "output_type": "execute_result"
    }
   ],
   "source": [
    "'spam' *3"
   ]
  },
  {
   "cell_type": "code",
   "execution_count": null,
   "id": "ded34aed",
   "metadata": {},
   "outputs": [],
   "source": [
    "So both the terms have same value"
   ]
  },
  {
   "cell_type": "code",
   "execution_count": null,
   "id": "22696ec5",
   "metadata": {},
   "outputs": [],
   "source": [
    "8. Why is eggs a valid variable name while 100 is invalid?"
   ]
  },
  {
   "cell_type": "code",
   "execution_count": null,
   "id": "dec0e070",
   "metadata": {},
   "outputs": [],
   "source": [
    "Eggs is a valid variable name becuase we can make it variable and the values of a variable can change but 100 is a intiger and\n",
    "it cannot have multiple values."
   ]
  },
  {
   "cell_type": "code",
   "execution_count": null,
   "id": "6f64733b",
   "metadata": {},
   "outputs": [],
   "source": [
    "9. What three functions can be used to get the integer, floating-point number, or string version of a value?"
   ]
  },
  {
   "cell_type": "code",
   "execution_count": null,
   "id": "41f20394",
   "metadata": {},
   "outputs": [],
   "source": [
    "The functions that we can use are int,float and str to get intiger,floating-point and string versions respectively."
   ]
  },
  {
   "cell_type": "code",
   "execution_count": null,
   "id": "65cadbbb",
   "metadata": {},
   "outputs": [],
   "source": [
    "10. Why does this expression cause an error? How can you fix it?\n",
    "'I have eaten ' + 99 + ' burritos.'\n"
   ]
  },
  {
   "cell_type": "code",
   "execution_count": null,
   "id": "af7ebd72",
   "metadata": {},
   "outputs": [],
   "source": [
    "'I have eaten' + 99 + 'burritos' cause an error because we cannot join two diffirent type of values i.e. 'string' and 'intiger'.\n",
    "to fix this issue we can convert 99 to string by putting it in ''. 'I have eaten'+'99'+'burritos'"
   ]
  }
 ],
 "metadata": {
  "kernelspec": {
   "display_name": "Python 3 (ipykernel)",
   "language": "python",
   "name": "python3"
  },
  "language_info": {
   "codemirror_mode": {
    "name": "ipython",
    "version": 3
   },
   "file_extension": ".py",
   "mimetype": "text/x-python",
   "name": "python",
   "nbconvert_exporter": "python",
   "pygments_lexer": "ipython3",
   "version": "3.9.7"
  }
 },
 "nbformat": 4,
 "nbformat_minor": 5
}

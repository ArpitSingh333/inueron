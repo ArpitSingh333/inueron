{
 "cells": [
  {
   "cell_type": "code",
   "execution_count": null,
   "id": "283a84a6",
   "metadata": {},
   "outputs": [],
   "source": [
    "1. Is the Python Standard Library included with PyInputPlus?"
   ]
  },
  {
   "cell_type": "code",
   "execution_count": null,
   "id": "a3b93f7a",
   "metadata": {},
   "outputs": [],
   "source": [
    "PyinputPlus is not a part of standard python library"
   ]
  },
  {
   "cell_type": "code",
   "execution_count": null,
   "id": "46b6a74d",
   "metadata": {},
   "outputs": [],
   "source": [
    "2. Why is PyInputPlus commonly imported with import pyinputplus as pypi?"
   ]
  },
  {
   "cell_type": "code",
   "execution_count": null,
   "id": "9945973a",
   "metadata": {},
   "outputs": [],
   "source": [
    "pypi is an alias , as aliases are used to save our time and effort so that we do not have to write the module name again \n",
    "and again"
   ]
  },
  {
   "cell_type": "code",
   "execution_count": null,
   "id": "b50f9b9a",
   "metadata": {},
   "outputs": [],
   "source": [
    "3. How do you distinguish between inputInt() and inputFloat()?"
   ]
  },
  {
   "cell_type": "code",
   "execution_count": null,
   "id": "43d39be8",
   "metadata": {},
   "outputs": [],
   "source": [
    "inputInt() takes an integer value as an input while inputFloat takes a float value"
   ]
  },
  {
   "cell_type": "code",
   "execution_count": null,
   "id": "a363b48d",
   "metadata": {},
   "outputs": [],
   "source": [
    "4. Using PyInputPlus, how do you ensure that the user enters a whole number between 0 and 99?"
   ]
  },
  {
   "cell_type": "code",
   "execution_count": null,
   "id": "0edee31d",
   "metadata": {},
   "outputs": [],
   "source": [
    "To meet the above mentioned conditions we can use the max and min function .\n",
    "for ex:\n",
    "    import PyInputPlus as pypi\n",
    "    pypi.inputInt(min = 0, max = 99)"
   ]
  },
  {
   "cell_type": "code",
   "execution_count": null,
   "id": "33ecba36",
   "metadata": {},
   "outputs": [],
   "source": [
    "5. What is transferred to the keyword arguments allowRegexes and blockRegexes?"
   ]
  },
  {
   "cell_type": "code",
   "execution_count": null,
   "id": "37055ee0",
   "metadata": {},
   "outputs": [],
   "source": [
    "allowRegexes allows a particular list of regular expressions and bockRegexes blocks them"
   ]
  },
  {
   "cell_type": "code",
   "execution_count": null,
   "id": "4d3f9af3",
   "metadata": {},
   "outputs": [],
   "source": [
    "6. If a blank input is entered three times, what does inputStr(limit=3) do?"
   ]
  },
  {
   "cell_type": "code",
   "execution_count": null,
   "id": "17356dc5",
   "metadata": {},
   "outputs": [],
   "source": [
    "Since in inputStr(limit=3) the limit we entered is three so if we enter a blank input more than 3 times it will show \n",
    "RetryLimitException"
   ]
  },
  {
   "cell_type": "code",
   "execution_count": null,
   "id": "031369f8",
   "metadata": {},
   "outputs": [],
   "source": [
    "7. If blank input is entered three times, what does inputStr(limit=3, default='hello') do?"
   ]
  },
  {
   "cell_type": "code",
   "execution_count": null,
   "id": "7ae7de8f",
   "metadata": {},
   "outputs": [],
   "source": [
    "In the above code chunk if we enter a blank input three times the output is following,\n",
    "\n",
    "Blank values are not allowed.\n",
    "Blank values are not allowed.\n",
    "Blank values are not allowed.\n",
    "'hello'"
   ]
  }
 ],
 "metadata": {
  "kernelspec": {
   "display_name": "Python 3 (ipykernel)",
   "language": "python",
   "name": "python3"
  },
  "language_info": {
   "codemirror_mode": {
    "name": "ipython",
    "version": 3
   },
   "file_extension": ".py",
   "mimetype": "text/x-python",
   "name": "python",
   "nbconvert_exporter": "python",
   "pygments_lexer": "ipython3",
   "version": "3.9.7"
  }
 },
 "nbformat": 4,
 "nbformat_minor": 5
}

{
 "cells": [
  {
   "cell_type": "code",
   "execution_count": null,
   "id": "70aa58c3",
   "metadata": {},
   "outputs": [],
   "source": [
    "1. What exactly is []?"
   ]
  },
  {
   "cell_type": "code",
   "execution_count": null,
   "id": "b3de6224",
   "metadata": {},
   "outputs": [],
   "source": [
    "[] is a symbol that represents a list"
   ]
  },
  {
   "cell_type": "code",
   "execution_count": null,
   "id": "5cc4b951",
   "metadata": {},
   "outputs": [],
   "source": [
    "2. In a list of values stored in a variable called spam, how would you assign the value 'hello' as the third value? \n",
    "(Assume [2, 4, 6, 8, 10] are in spam.)"
   ]
  },
  {
   "cell_type": "code",
   "execution_count": null,
   "id": "1f134a2e",
   "metadata": {},
   "outputs": [],
   "source": [
    "To assign a value to the variable spam type the following code\n",
    "spam[2] = 'hello'"
   ]
  },
  {
   "cell_type": "code",
   "execution_count": null,
   "id": "00f0d978",
   "metadata": {},
   "outputs": [],
   "source": [
    "Let's pretend the spam includes the list ['a', 'b', 'c', 'd'] for the next three queries.\n",
    "3. What is the value of spam[int(int('3' * 2) / 11)]?"
   ]
  },
  {
   "cell_type": "code",
   "execution_count": null,
   "id": "75913e1a",
   "metadata": {},
   "outputs": [],
   "source": [
    "spam =['a','b','c','d']\n",
    "spam[int(int('3'*2)/11)] will be eqaul to d"
   ]
  },
  {
   "cell_type": "code",
   "execution_count": null,
   "id": "de4994b9",
   "metadata": {},
   "outputs": [],
   "source": [
    "4. What is the value of spam[-1]?"
   ]
  },
  {
   "cell_type": "code",
   "execution_count": null,
   "id": "b94e216f",
   "metadata": {},
   "outputs": [],
   "source": [
    "The value of spam[-1] is 'd'"
   ]
  },
  {
   "cell_type": "code",
   "execution_count": null,
   "id": "987c128a",
   "metadata": {},
   "outputs": [],
   "source": [
    "5. What is the value of spam[:2]?"
   ]
  },
  {
   "cell_type": "code",
   "execution_count": null,
   "id": "55209591",
   "metadata": {},
   "outputs": [],
   "source": [
    "The value of spam[:2] is 'a' and 'b'"
   ]
  },
  {
   "cell_type": "code",
   "execution_count": null,
   "id": "fa2a0c96",
   "metadata": {},
   "outputs": [],
   "source": [
    "Let's pretend bacon has the list [3.14, 'cat,' 11, 'cat,' True] for the next three questions."
   ]
  },
  {
   "cell_type": "code",
   "execution_count": null,
   "id": "3717164c",
   "metadata": {},
   "outputs": [],
   "source": [
    "6. What is the value of bacon.index('cat')?"
   ]
  },
  {
   "cell_type": "code",
   "execution_count": null,
   "id": "fa0a2378",
   "metadata": {},
   "outputs": [],
   "source": [
    "The value of bacon.index('cat') is '1'"
   ]
  },
  {
   "cell_type": "code",
   "execution_count": null,
   "id": "4d78a97a",
   "metadata": {},
   "outputs": [],
   "source": [
    "7. How does bacon.append(99) change the look of the list value in bacon?"
   ]
  },
  {
   "cell_type": "code",
   "execution_count": null,
   "id": "5dab0269",
   "metadata": {},
   "outputs": [],
   "source": [
    "bacon.append(99) makes the value of list [3.14, 'cat', 11, 'cat', True, 99]"
   ]
  },
  {
   "cell_type": "code",
   "execution_count": null,
   "id": "11b090d0",
   "metadata": {},
   "outputs": [],
   "source": [
    "8. How does bacon.remove('cat') change the look of the list in bacon?"
   ]
  },
  {
   "cell_type": "code",
   "execution_count": null,
   "id": "6cb310b0",
   "metadata": {
    "collapsed": true
   },
   "outputs": [],
   "source": [
    "bacon.remove('cat') will remove 'cat' (that appears first) from the list and it will look as [3.14, 11, 'cat', True, 99]"
   ]
  },
  {
   "cell_type": "code",
   "execution_count": null,
   "id": "1e3c94c0",
   "metadata": {},
   "outputs": [],
   "source": [
    "9. What are the list concatenation and list replication operators?"
   ]
  },
  {
   "cell_type": "code",
   "execution_count": null,
   "id": "f2dbf352",
   "metadata": {},
   "outputs": [],
   "source": [
    "List concatenation joins two or more list or returns a single list after adding values to it and replication adds single \n",
    "values to a list"
   ]
  },
  {
   "cell_type": "code",
   "execution_count": null,
   "id": "d8d26003",
   "metadata": {},
   "outputs": [],
   "source": [
    "10. What is difference between the list methods append() and insert()?"
   ]
  },
  {
   "cell_type": "code",
   "execution_count": null,
   "id": "06ac1430",
   "metadata": {},
   "outputs": [],
   "source": [
    "In the append method of a list we just add the values to that particular list while in insert  we can provide positions too."
   ]
  },
  {
   "cell_type": "code",
   "execution_count": null,
   "id": "a3894d41",
   "metadata": {},
   "outputs": [],
   "source": [
    "11. What are the two methods for removing items from a list?"
   ]
  },
  {
   "cell_type": "code",
   "execution_count": null,
   "id": "809ada60",
   "metadata": {},
   "outputs": [],
   "source": [
    "The two methods for removing are \"Remove\" and \"Pop\""
   ]
  },
  {
   "cell_type": "code",
   "execution_count": null,
   "id": "b924cd6a",
   "metadata": {},
   "outputs": [],
   "source": [
    "12. Describe how list values and string values are identical."
   ]
  },
  {
   "cell_type": "code",
   "execution_count": null,
   "id": "bd544c39",
   "metadata": {},
   "outputs": [],
   "source": [
    "List is made up of values and string is also made up of some characters that have a specific order"
   ]
  },
  {
   "cell_type": "code",
   "execution_count": null,
   "id": "9e9e446d",
   "metadata": {},
   "outputs": [],
   "source": [
    "13. What's the difference between tuples and lists?"
   ]
  },
  {
   "cell_type": "code",
   "execution_count": null,
   "id": "4f03980d",
   "metadata": {},
   "outputs": [],
   "source": [
    "list is a mutable entity and tuples are immutable entity"
   ]
  },
  {
   "cell_type": "code",
   "execution_count": null,
   "id": "d83d9f1a",
   "metadata": {},
   "outputs": [],
   "source": [
    "14. How do you type a tuple value that only contains the integer 42?"
   ]
  },
  {
   "cell_type": "code",
   "execution_count": null,
   "id": "97266ff9",
   "metadata": {},
   "outputs": [],
   "source": [
    "so the desired tuple is t = (42)"
   ]
  },
  {
   "cell_type": "code",
   "execution_count": null,
   "id": "50f616a5",
   "metadata": {},
   "outputs": [],
   "source": [
    "15. How do you get a list value's tuple form? How do you get a tuple value's list form?"
   ]
  },
  {
   "cell_type": "code",
   "execution_count": null,
   "id": "8eeefe5e",
   "metadata": {},
   "outputs": [],
   "source": [
    "we get the values as follows consider a list  a = [1,2,3,4] and tuple b= (4,5,6,7) to get the values of list in tuple form\n",
    "we have to call tuple(a) and to get values of tuple in list form we may call list(b)"
   ]
  },
  {
   "cell_type": "code",
   "execution_count": null,
   "id": "4c6a839f",
   "metadata": {},
   "outputs": [],
   "source": [
    "16. Variables that \"contain\" list values are not necessarily lists themselves. Instead, what do they contain?"
   ]
  },
  {
   "cell_type": "code",
   "execution_count": null,
   "id": "e085f37b",
   "metadata": {},
   "outputs": [],
   "source": [
    "Variables to contain list values can be anything a list , tuple , set or dictionary"
   ]
  },
  {
   "cell_type": "code",
   "execution_count": null,
   "id": "10040dff",
   "metadata": {},
   "outputs": [],
   "source": [
    "17. How do you distinguish between copy.copy() and copy.deepcopy()?"
   ]
  },
  {
   "cell_type": "code",
   "execution_count": null,
   "id": "265afa71",
   "metadata": {},
   "outputs": [],
   "source": [
    "copy.copy() creates a shallow copy of the variable that remains dependent on that variable while copy.deepcopy() creates a \n",
    "deep copy that is independent of the main variable"
   ]
  }
 ],
 "metadata": {
  "kernelspec": {
   "display_name": "Python 3 (ipykernel)",
   "language": "python",
   "name": "python3"
  },
  "language_info": {
   "codemirror_mode": {
    "name": "ipython",
    "version": 3
   },
   "file_extension": ".py",
   "mimetype": "text/x-python",
   "name": "python",
   "nbconvert_exporter": "python",
   "pygments_lexer": "ipython3",
   "version": "3.9.7"
  }
 },
 "nbformat": 4,
 "nbformat_minor": 5
}

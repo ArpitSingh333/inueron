{
 "cells": [
  {
   "cell_type": "code",
   "execution_count": null,
   "id": "46ef1ca2",
   "metadata": {},
   "outputs": [],
   "source": [
    "1. To what does a relative path refer?"
   ]
  },
  {
   "cell_type": "code",
   "execution_count": null,
   "id": "8fb9d977",
   "metadata": {},
   "outputs": [],
   "source": [
    "A relative path refers to a location that refers to current directory "
   ]
  },
  {
   "cell_type": "code",
   "execution_count": null,
   "id": "3b0c50d7",
   "metadata": {},
   "outputs": [],
   "source": [
    "2. What does an absolute path start with your operating system?"
   ]
  },
  {
   "cell_type": "code",
   "execution_count": null,
   "id": "e9612c48",
   "metadata": {},
   "outputs": [],
   "source": [
    "An absolute path in our operating system starts with the home directory of our computer"
   ]
  },
  {
   "cell_type": "code",
   "execution_count": null,
   "id": "bd0ee2be",
   "metadata": {},
   "outputs": [],
   "source": [
    "3. What do the functions os.getcwd() and os.chdir() do?"
   ]
  },
  {
   "cell_type": "code",
   "execution_count": 1,
   "id": "c23c3918",
   "metadata": {},
   "outputs": [],
   "source": [
    "the functions represents the following \n",
    "(1) os.getcwd() - it returns a unicode string representing the current working directory.\n",
    "(2) os.chdir() - it changes the current working directory to the specified path."
   ]
  },
  {
   "cell_type": "code",
   "execution_count": null,
   "id": "41924d64",
   "metadata": {},
   "outputs": [],
   "source": [
    "4. What are the . and .. folders?"
   ]
  },
  {
   "cell_type": "code",
   "execution_count": null,
   "id": "d4d7a95c",
   "metadata": {},
   "outputs": [],
   "source": [
    "The . is the current folder while .. is the parent folder"
   ]
  },
  {
   "cell_type": "code",
   "execution_count": null,
   "id": "fb9f7385",
   "metadata": {},
   "outputs": [],
   "source": [
    "5. In C:\\bacon\\eggs\\spam.txt, which part is the dir name, and which part is the base name?"
   ]
  },
  {
   "cell_type": "code",
   "execution_count": null,
   "id": "7e6afd53",
   "metadata": {},
   "outputs": [],
   "source": [
    "In C:\\bacon\\eggs\\spam.txt, In C:\\bacon\\eggs is the dir name and spam.txt is the base name"
   ]
  },
  {
   "cell_type": "code",
   "execution_count": null,
   "id": "c33f478d",
   "metadata": {},
   "outputs": [],
   "source": [
    "6. What are the three “mode” arguments that can be passed to the open() function?"
   ]
  },
  {
   "cell_type": "code",
   "execution_count": null,
   "id": "feafbf1b",
   "metadata": {},
   "outputs": [],
   "source": [
    "The following three arguments can be passed to open a function:\n",
    "    (i) \"r\" for read mode\n",
    "    (ii)\"w\" for write mode\n",
    "    (iii)\"a\" for append mode"
   ]
  },
  {
   "cell_type": "code",
   "execution_count": null,
   "id": "e8ce16b5",
   "metadata": {},
   "outputs": [],
   "source": [
    "7. What happens if an existing file is opened in write mode?"
   ]
  },
  {
   "cell_type": "code",
   "execution_count": null,
   "id": "f9b2f148",
   "metadata": {},
   "outputs": [],
   "source": [
    "7. What happens if an existing file is opened in write mode?"
   ]
  },
  {
   "cell_type": "code",
   "execution_count": null,
   "id": "365cd6c0",
   "metadata": {},
   "outputs": [],
   "source": [
    "If an existing file is opened in a write mode then we can make any modifications in it as per our requirement"
   ]
  },
  {
   "cell_type": "code",
   "execution_count": null,
   "id": "3b273515",
   "metadata": {},
   "outputs": [],
   "source": [
    "8. How do you tell the difference between read() and readlines()?"
   ]
  },
  {
   "cell_type": "code",
   "execution_count": null,
   "id": "10ce3104",
   "metadata": {},
   "outputs": [],
   "source": [
    "the read() method returns everything written in a file as a whole , while readlines() returns a list of strings where each\n",
    "string is in a line form"
   ]
  },
  {
   "cell_type": "code",
   "execution_count": null,
   "id": "2807e2e1",
   "metadata": {},
   "outputs": [],
   "source": [
    "9. What data structure does a shelf value resemble?"
   ]
  },
  {
   "cell_type": "code",
   "execution_count": null,
   "id": "462bf212",
   "metadata": {},
   "outputs": [],
   "source": [
    "The shelf value is same as dictionary value"
   ]
  }
 ],
 "metadata": {
  "kernelspec": {
   "display_name": "Python 3 (ipykernel)",
   "language": "python",
   "name": "python3"
  },
  "language_info": {
   "codemirror_mode": {
    "name": "ipython",
    "version": 3
   },
   "file_extension": ".py",
   "mimetype": "text/x-python",
   "name": "python",
   "nbconvert_exporter": "python",
   "pygments_lexer": "ipython3",
   "version": "3.9.7"
  }
 },
 "nbformat": 4,
 "nbformat_minor": 5
}

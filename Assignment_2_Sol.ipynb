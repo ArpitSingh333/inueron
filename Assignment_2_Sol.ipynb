{
 "cells": [
  {
   "cell_type": "code",
   "execution_count": null,
   "id": "4e3a24ad",
   "metadata": {},
   "outputs": [],
   "source": [
    "1.What are the two values of the Boolean data type? How do you write them?"
   ]
  },
  {
   "cell_type": "code",
   "execution_count": null,
   "id": "6acf8b51",
   "metadata": {},
   "outputs": [],
   "source": [
    "The two values of Boolean data type are TRUE and FALSE. we can check them by writting an expression . For ex: 9>6 ,wil return TRUE"
   ]
  },
  {
   "cell_type": "code",
   "execution_count": null,
   "id": "14c173f2",
   "metadata": {},
   "outputs": [],
   "source": [
    "2. What are the three different types of Boolean operators?"
   ]
  },
  {
   "cell_type": "code",
   "execution_count": null,
   "id": "bf791694",
   "metadata": {},
   "outputs": [],
   "source": [
    "The different types of Boolean operators are 'AND', 'OR' and 'NOT' "
   ]
  },
  {
   "cell_type": "code",
   "execution_count": null,
   "id": "a1c59ae9",
   "metadata": {},
   "outputs": [],
   "source": [
    "3. Make a list of each Boolean operator's truth tables (i.e. every possible combination of Boolean values for the operator and what it evaluate )."
   ]
  },
  {
   "cell_type": "code",
   "execution_count": null,
   "id": "160a41b8",
   "metadata": {},
   "outputs": [],
   "source": [
    "Truth table for operator 'And'\n",
    "\n",
    "OPERATOR A       OPERATOR B      Result\n",
    "True             True            True\n",
    "True             False           False\n",
    "False            True            False\n",
    "False            False           True\n",
    "\n",
    "Truth table for operator 'Or'\n",
    "\n",
    "OPERATOR A       OPERATOR B      Result\n",
    "True             True            True\n",
    "True             False           True\n",
    "False            True            True\n",
    "False            False           False\n",
    "\n",
    "Truth table for operator 'Not'\n",
    "\n",
    "OPERATOR A       Value      Result\n",
    "True             True       False\n",
    "True             False      True\n",
    "False            True       False\n",
    "False            False      True"
   ]
  },
  {
   "cell_type": "code",
   "execution_count": null,
   "id": "87925543",
   "metadata": {},
   "outputs": [],
   "source": [
    "4. What are the values of the following expressions?\n",
    "(5 > 4) and (3 == 5)\n",
    "not (5 > 4)\n",
    "(5 > 4) or (3 == 5)\n",
    "not ((5 > 4) or (3 == 5))\n",
    "(True and True) and (True == False)\n",
    "(not False) or (not True)"
   ]
  },
  {
   "cell_type": "code",
   "execution_count": 2,
   "id": "bb4cd1e5",
   "metadata": {},
   "outputs": [
    {
     "data": {
      "text/plain": [
       "False"
      ]
     },
     "execution_count": 2,
     "metadata": {},
     "output_type": "execute_result"
    }
   ],
   "source": [
    "(5>4) and (3==5)"
   ]
  },
  {
   "cell_type": "code",
   "execution_count": 3,
   "id": "001d1110",
   "metadata": {},
   "outputs": [
    {
     "data": {
      "text/plain": [
       "False"
      ]
     },
     "execution_count": 3,
     "metadata": {},
     "output_type": "execute_result"
    }
   ],
   "source": [
    "not (5>4)"
   ]
  },
  {
   "cell_type": "code",
   "execution_count": 4,
   "id": "99bfb2c1",
   "metadata": {},
   "outputs": [
    {
     "data": {
      "text/plain": [
       "True"
      ]
     },
     "execution_count": 4,
     "metadata": {},
     "output_type": "execute_result"
    }
   ],
   "source": [
    "(5>4) or (3 == 5)"
   ]
  },
  {
   "cell_type": "code",
   "execution_count": 5,
   "id": "dd2609d7",
   "metadata": {},
   "outputs": [
    {
     "data": {
      "text/plain": [
       "False"
      ]
     },
     "execution_count": 5,
     "metadata": {},
     "output_type": "execute_result"
    }
   ],
   "source": [
    "not ((5>4) or (3==5))"
   ]
  },
  {
   "cell_type": "code",
   "execution_count": 6,
   "id": "fcabc336",
   "metadata": {},
   "outputs": [
    {
     "data": {
      "text/plain": [
       "False"
      ]
     },
     "execution_count": 6,
     "metadata": {},
     "output_type": "execute_result"
    }
   ],
   "source": [
    "(True and True) and (True == False)\n"
   ]
  },
  {
   "cell_type": "code",
   "execution_count": 7,
   "id": "bd6cf40f",
   "metadata": {},
   "outputs": [
    {
     "data": {
      "text/plain": [
       "True"
      ]
     },
     "execution_count": 7,
     "metadata": {},
     "output_type": "execute_result"
    }
   ],
   "source": [
    "(not False) or (not True)"
   ]
  },
  {
   "cell_type": "code",
   "execution_count": null,
   "id": "e0835077",
   "metadata": {},
   "outputs": [],
   "source": [
    "# Answer\n",
    "values are \n",
    "(5 > 4) and (3 == 5) - False\n",
    "not (5 > 4) - False\n",
    "(5 > 4) or (3 == 5) - True\n",
    "not ((5 > 4) or (3 == 5)) - False\n",
    "(True and True) and (True == False) - False\n",
    "(not False) or (not True) - True"
   ]
  },
  {
   "cell_type": "code",
   "execution_count": null,
   "id": "7cf754a6",
   "metadata": {},
   "outputs": [],
   "source": [
    "5. What are the six comparison operators?"
   ]
  },
  {
   "cell_type": "code",
   "execution_count": null,
   "id": "cea36925",
   "metadata": {},
   "outputs": [],
   "source": [
    "The six comparison operators are:\n",
    "\n",
    "(1) == Equal to \n",
    "(2) != Not equal to \n",
    "(3) >  Greater than \n",
    "(4) <  Less than\n",
    "(5) >= Greater than or equal to \n",
    "(6) <= Less than or equal to "
   ]
  },
  {
   "cell_type": "code",
   "execution_count": null,
   "id": "bce6f021",
   "metadata": {},
   "outputs": [],
   "source": [
    "6. How do you tell the difference between the equal to and assignment operators?Describe a condition and when you would use one."
   ]
  },
  {
   "cell_type": "code",
   "execution_count": null,
   "id": "96c2dd9e",
   "metadata": {},
   "outputs": [],
   "source": [
    "The mjaor difference between an assignment operator and an equal opearotor is of syntax in assignment we use single \"=\" and in \n",
    "equal operator we use two \"==\" . An equal operator can be is used when we write an if clause \n",
    "for exapmle :\n",
    "    a=[12,13,14, 'Arpit']\n",
    "    for i in a :\n",
    "        if type (a) == str:\n",
    "            print('string')\n",
    "            "
   ]
  },
  {
   "cell_type": "code",
   "execution_count": null,
   "id": "e5bf3575",
   "metadata": {},
   "outputs": [],
   "source": [
    "7. Identify the three blocks in this code:\n",
    "spam = 0\n",
    "if spam == 10:\n",
    "print('eggs')\n",
    "if spam > 5:\n",
    "print('bacon')\n",
    "else:\n",
    "print('ham')\n",
    "print('spam')\n",
    "print('spam')\n",
    "\n"
   ]
  },
  {
   "cell_type": "code",
   "execution_count": null,
   "id": "5b71c598",
   "metadata": {},
   "outputs": [],
   "source": [
    "The three blocks in the given code are at:\n",
    "    if spam == 10:\n",
    "    print('eggs')\n",
    "    \n",
    "    if spam > 5:\n",
    "    print('bacon')\n",
    "    \n",
    "    else:\n",
    "    print('ham')\n",
    "    print('spam')\n",
    "    print('spam')\n",
    "\n",
    "    \n",
    "    \n",
    "    \n",
    "    "
   ]
  },
  {
   "cell_type": "code",
   "execution_count": null,
   "id": "a39ffb01",
   "metadata": {},
   "outputs": [],
   "source": [
    "8. Write code that prints Hello if 1 is stored in spam, prints Howdy if 2 is stored in spam, and prints Greetings! if anything else is stored in spam."
   ]
  },
  {
   "cell_type": "code",
   "execution_count": 33,
   "id": "edc05ca2",
   "metadata": {},
   "outputs": [],
   "source": [
    "def code1():\n",
    "    \n",
    "    \"\"\"Code that prints Hello, Howdy and Greetings\"\"\"\n",
    "    spam = input()\n",
    "    \n",
    "    \n",
    "    if spam == '1':\n",
    "        print(\"Hello\")\n",
    "    elif spam == '2':\n",
    "        print(\"Howdy\")\n",
    "    else:\n",
    "        print(\"Greetings!\")"
   ]
  },
  {
   "cell_type": "code",
   "execution_count": null,
   "id": "e5312b72",
   "metadata": {},
   "outputs": [],
   "source": [
    "9.If your programme is stuck in an endless loop, what keys you’ll press?"
   ]
  },
  {
   "cell_type": "code",
   "execution_count": null,
   "id": "b02bd34e",
   "metadata": {},
   "outputs": [],
   "source": [
    "To stop executing an endless loop \"Ctrl+C\" combination is used "
   ]
  },
  {
   "cell_type": "code",
   "execution_count": null,
   "id": "6282477e",
   "metadata": {},
   "outputs": [],
   "source": [
    "10. How can you tell the difference between break and continue?"
   ]
  },
  {
   "cell_type": "code",
   "execution_count": null,
   "id": "04c512f9",
   "metadata": {},
   "outputs": [],
   "source": [
    "\"Break\" is used to stop executing a code if a certain value is matched or a certain conditon is met and \"Continue\" is used to \n",
    "pass the process to next loop without completing the current loop or to skip to next loop.\n"
   ]
  },
  {
   "cell_type": "code",
   "execution_count": null,
   "id": "72b668c0",
   "metadata": {},
   "outputs": [],
   "source": [
    "11. In a for loop, what is the difference between range(10), range(0, 10), and range(0, 10, 1)?"
   ]
  },
  {
   "cell_type": "code",
   "execution_count": null,
   "id": "aa33bfd0",
   "metadata": {},
   "outputs": [],
   "source": [
    "in a for loop range (0,10,1) means that going one by one from 0th index to 9th index skipping the 10th index , \n",
    "range (10) also means the same thing because it takes the starting index by default as 0 and\n",
    "range(0,10) also means the same thing becuase it takes the skkiping value as by default 1"
   ]
  },
  {
   "cell_type": "code",
   "execution_count": null,
   "id": "a53dc9d5",
   "metadata": {},
   "outputs": [],
   "source": [
    "12. Write a short program that prints the numbers 1 to 10 using a for loop. Then write an equivalent program that prints the numbers 1 to 10 using a while loop."
   ]
  },
  {
   "cell_type": "code",
   "execution_count": 37,
   "id": "6a7e2ec7",
   "metadata": {},
   "outputs": [],
   "source": [
    "def code2():\n",
    "    \"\"\"\"Prints 1 to 10 using for loop \"\"\"\n",
    "    a=[1,2,3,4,5,6,7,8,9,10]\n",
    "    for i in a:\n",
    "        print(i)\n"
   ]
  },
  {
   "cell_type": "code",
   "execution_count": null,
   "id": "7baae951",
   "metadata": {},
   "outputs": [],
   "source": [
    "def code3():\n",
    "    \"\"\"Prints 1 to 10 using while loop\"\"\"\n",
    "    a=0\n",
    "    while a<10:\n",
    "        a +=1\n",
    "        print(a)"
   ]
  },
  {
   "cell_type": "code",
   "execution_count": null,
   "id": "79758f04",
   "metadata": {},
   "outputs": [],
   "source": [
    "13. If you had a function named bacon() inside a module named spam, how would you call it after importing spam?"
   ]
  },
  {
   "cell_type": "code",
   "execution_count": null,
   "id": "aea6ea75",
   "metadata": {},
   "outputs": [],
   "source": [
    "spam.bacon()"
   ]
  }
 ],
 "metadata": {
  "kernelspec": {
   "display_name": "Python 3 (ipykernel)",
   "language": "python",
   "name": "python3"
  },
  "language_info": {
   "codemirror_mode": {
    "name": "ipython",
    "version": 3
   },
   "file_extension": ".py",
   "mimetype": "text/x-python",
   "name": "python",
   "nbconvert_exporter": "python",
   "pygments_lexer": "ipython3",
   "version": "3.9.7"
  }
 },
 "nbformat": 4,
 "nbformat_minor": 5
}
